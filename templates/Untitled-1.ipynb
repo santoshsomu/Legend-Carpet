{
 "cells": [
  {
   "cell_type": "code",
   "execution_count": 6,
   "id": "3939158b",
   "metadata": {},
   "outputs": [
    {
     "name": "stdout",
     "output_type": "stream",
     "text": [
      "Total number of fruits: 990\n",
      "{'apples': 250, 'bananas': 300, 'oranges': 90, 'grapes': 350}\n"
     ]
    }
   ],
   "source": [
    "inventory = {\n",
    "    'apples': 250,\n",
    "    'bananas': 175,\n",
    "    'oranges': 90\n",
    "}\n",
    "\n",
    "inventory['bananas'] +=125\n",
    "\n",
    "inventory['grapes'] = 350\n",
    "\n",
    "total = 0\n",
    "\n",
    "for fruits, count in inventory.items():\n",
    "    total += count\n",
    "    \n",
    "print(f'Total number of fruits: {total}')\n",
    "\n",
    "print(inventory)"
   ]
  },
  {
   "cell_type": "code",
   "execution_count": null,
   "id": "f22dc952",
   "metadata": {},
   "outputs": [
    {
     "name": "stdout",
     "output_type": "stream",
     "text": [
      "[150, 45, 310, 88, 500, 12]\n",
      "1105\n"
     ]
    }
   ],
   "source": [
    "sales_figures = [150, 45, -20, 310, 0, 88, -5, 500, 12, 0]\n",
    "\n",
    "valid_sales = []\n",
    "\n",
    "for value in sales_figures:\n",
    "    if value > 0:\n",
    "        valid_sales.append(value)\n",
    "\n",
    "print(valid_sales)\n",
    "print(sum(valid_sales))"
   ]
  },
  {
   "cell_type": "code",
   "execution_count": null,
   "id": "b2bdcb0d",
   "metadata": {},
   "outputs": [
    {
     "name": "stdout",
     "output_type": "stream",
     "text": [
      "[12000.0, 18000.0, 11000.0]\n",
      "41000.0\n"
     ]
    }
   ],
   "source": [
    "    agents = [\n",
    "        {'name': 'Alex', 'salary': 60000, 'rating': 4.5},\n",
    "        {'name': 'Maya', 'salary': 75000, 'rating': 3.8},\n",
    "        {'name': 'Chris', 'salary': 90000, 'rating': 4.1},\n",
    "        {'name': 'Sara', 'salary': 55000, 'rating': 4.9},\n",
    "        {'name': 'Ben', 'salary': 80000, 'rating': 3.9}\n",
    "    ]\n",
    "\n",
    "    bonus_amounts = [agent['salary'] * 0.2 for agent in agents if agent['rating'] >= 4.0]\n",
    "    print(bonus_amounts)\n",
    "    print(sum(bonus_amounts))"
   ]
  },
  {
   "cell_type": "code",
   "execution_count": 19,
   "id": "5106b5bb",
   "metadata": {},
   "outputs": [
    {
     "name": "stdout",
     "output_type": "stream",
     "text": [
      "product_name_alpha-7\n"
     ]
    }
   ],
   "source": [
    "def clean_text(text):\n",
    "    text = text.strip().lower()\n",
    "    for char in text:\n",
    "        if char == \" \":\n",
    "            text = text.replace(char, \"_\")\n",
    "            \n",
    "    return text\n",
    "\n",
    "print(clean_text(\"   Product Name ALPHA-7  \"))  # Output: \"hello_world\""
   ]
  },
  {
   "cell_type": "code",
   "execution_count": null,
   "id": "8b7322fd",
   "metadata": {},
   "outputs": [],
   "source": []
  }
 ],
 "metadata": {
  "kernelspec": {
   "display_name": "Python 3",
   "language": "python",
   "name": "python3"
  },
  "language_info": {
   "codemirror_mode": {
    "name": "ipython",
    "version": 3
   },
   "file_extension": ".py",
   "mimetype": "text/x-python",
   "name": "python",
   "nbconvert_exporter": "python",
   "pygments_lexer": "ipython3",
   "version": "3.10.11"
  }
 },
 "nbformat": 4,
 "nbformat_minor": 5
}
